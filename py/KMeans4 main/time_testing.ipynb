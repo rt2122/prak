{
 "cells": [
  {
   "cell_type": "code",
   "execution_count": 1,
   "metadata": {
    "scrolled": true
   },
   "outputs": [
    {
     "data": {
      "text/html": [
       "<div>\n",
       "<style scoped>\n",
       "    .dataframe tbody tr th:only-of-type {\n",
       "        vertical-align: middle;\n",
       "    }\n",
       "\n",
       "    .dataframe tbody tr th {\n",
       "        vertical-align: top;\n",
       "    }\n",
       "\n",
       "    .dataframe thead th {\n",
       "        text-align: right;\n",
       "    }\n",
       "</style>\n",
       "<table border=\"1\" class=\"dataframe\">\n",
       "  <thead>\n",
       "    <tr style=\"text-align: right;\">\n",
       "      <th></th>\n",
       "      <th>Time</th>\n",
       "    </tr>\n",
       "  </thead>\n",
       "  <tbody>\n",
       "    <tr>\n",
       "      <th>(100, 3)</th>\n",
       "      <td>0.181941</td>\n",
       "    </tr>\n",
       "    <tr>\n",
       "      <th>(1000, 4)</th>\n",
       "      <td>4.268314</td>\n",
       "    </tr>\n",
       "    <tr>\n",
       "      <th>(900, 3)</th>\n",
       "      <td>3.049484</td>\n",
       "    </tr>\n",
       "    <tr>\n",
       "      <th>(1400, 6)</th>\n",
       "      <td>6.183934</td>\n",
       "    </tr>\n",
       "    <tr>\n",
       "      <th>(5000, 8)</th>\n",
       "      <td>46.470090</td>\n",
       "    </tr>\n",
       "    <tr>\n",
       "      <th>(600, 5)</th>\n",
       "      <td>2.179801</td>\n",
       "    </tr>\n",
       "    <tr>\n",
       "      <th>(1999, 7)</th>\n",
       "      <td>12.978387</td>\n",
       "    </tr>\n",
       "  </tbody>\n",
       "</table>\n",
       "</div>"
      ],
      "text/plain": [
       "                Time\n",
       "(100, 3)    0.181941\n",
       "(1000, 4)   4.268314\n",
       "(900, 3)    3.049484\n",
       "(1400, 6)   6.183934\n",
       "(5000, 8)  46.470090\n",
       "(600, 5)    2.179801\n",
       "(1999, 7)  12.978387"
      ]
     },
     "execution_count": 1,
     "metadata": {},
     "output_type": "execute_result"
    }
   ],
   "source": [
    "from sklearn.cluster import KMeans\n",
    "import pandas as pd\n",
    "import numpy as np\n",
    "import matplotlib.pyplot as plt\n",
    "from sklearn.datasets import make_blobs\n",
    "import pylab\n",
    "import time\n",
    "####\n",
    "from mylib import *\n",
    "####\n",
    "\n",
    "tests = [(100, 3), (1000, 4), (900, 3), (1400, 6), (5000, 8), (600, 5), (1999, 7)]\n",
    "times = []\n",
    "accurs = []\n",
    "for i in range(len(tests)):\n",
    "    x, _ = make_blobs(n_samples = tests[i][0], n_features = 2, centers = tests[i][1], random_state = 4)\n",
    "    true_time = time.time()\n",
    "    true_cl = KMeans(n_clusters = tests[i][1], random_state = 4).fit_predict(x)\n",
    "    true_time = time.time() - true_time\n",
    "    t = time.time()\n",
    "    ####\n",
    "    cl, _, _ = KMeans4(x, k = tests[i][1], strat = \"plusplus\")\n",
    "    ####\n",
    "    t = time.time() - t\n",
    "    times.append(t / true_time)\n",
    "    overl = list(true_cl == cl).count(True)\n",
    "    accurs.append(str(((overl / tests[i][0]) * 100))[)\n",
    "table = {\"Time\": times}\n",
    "pd.DataFrame(table, index = tests)"
   ]
  },
  {
   "cell_type": "code",
   "execution_count": null,
   "metadata": {},
   "outputs": [],
   "source": []
  }
 ],
 "metadata": {
  "kernelspec": {
   "display_name": "Python 3",
   "language": "python",
   "name": "python3"
  },
  "language_info": {
   "codemirror_mode": {
    "name": "ipython",
    "version": 3
   },
   "file_extension": ".py",
   "mimetype": "text/x-python",
   "name": "python",
   "nbconvert_exporter": "python",
   "pygments_lexer": "ipython3",
   "version": "3.7.0"
  }
 },
 "nbformat": 4,
 "nbformat_minor": 2
}
