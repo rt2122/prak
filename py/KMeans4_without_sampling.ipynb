{
 "cells": [
  {
   "cell_type": "code",
   "execution_count": 11,
   "metadata": {},
   "outputs": [
    {
     "name": "stdout",
     "output_type": "stream",
     "text": [
      "Количество точек, количество кластеров? (Через запятую)\n",
      "100, 2\n"
     ]
    },
    {
     "data": {
      "image/png": "[encoded data removed]",
      "text/plain": [
       "<Figure size 432x288 with 1 Axes>"
      ]
     },
     "metadata": {
      "needs_background": "light"
     },
     "output_type": "display_data"
    }
   ],
   "source": [
    "import numpy as np\n",
    "import matplotlib.pyplot as plt\n",
    "from sklearn.datasets import make_blobs\n",
    "from statistics import mean as meanlist\n",
    "\n",
    "def dist(x1, y1, x2, y2):\n",
    "    return np.sqrt((x1 - x2) ** 2 + (y1 - y2) ** 2)\n",
    "\n",
    "def KMeans4(matr, k = 2, seed = 4, eps = 0.0001):\n",
    "    np.random.seed(seed)\n",
    "    x = np.asarray(matr[:, 0])\n",
    "    y = np.asarray(matr[:, 1])\n",
    "    \n",
    "    length = len(x)\n",
    "    matr = np.concatenate([x, y, np.random.randint(0, k, length, dtype = int)])\n",
    "    matr = matr.reshape(3, length).T\n",
    "    \n",
    "    xc = np.random.randint(0, length, k)\n",
    "    yc = np.random.randint(0, length, k)\n",
    "    xc = x[xc]\n",
    "    yc = y[yc]\n",
    "    asd = 35\n",
    "    while True:\n",
    "        asd -= 1\n",
    "        if asd == 0:\n",
    "            break\n",
    "        for i in range(length):\n",
    "            clast = k - 1\n",
    "            dist_to_clast = dist(matr[i][0], matr[i][1], xc[k - 1], yc[k - 1])\n",
    "            for j in range(k - 1):\n",
    "                cur_dist = dist(matr[i][0], matr[i][1], xc[j], yc[j])\n",
    "                if cur_dist < dist_to_clast:\n",
    "                    dist_to_clast = cur_dist\n",
    "                    clast = j\n",
    "            matr[i][2] = clast\n",
    "        sums = 0\n",
    "        for i in range(k):\n",
    "            fil = list(filter(lambda q: matr[q][2] == i, range(length)))\n",
    "            if len(fil) == 0:\n",
    "                print(matr)\n",
    "            xcc = xc[i]\n",
    "            ycc = yc[i]\n",
    "            xc[i] = np.mean(x[fil])\n",
    "            yc[i] = np.mean(y[fil])\n",
    "            sums += dist(xc[i], yc[i], xcc, ycc)\n",
    "        #print(\"#\")\n",
    "        #print(xc)\n",
    "        #print(yc)\n",
    "        if sums < eps:\n",
    "            break\n",
    "    \n",
    "    '''\n",
    "    for i in range(length):\n",
    "        clast = k - 1\n",
    "        dist_to_clast = dist(x[i], y[i], xc[k - 1], yc[k - 1])\n",
    "        for j in range(k - 1):\n",
    "            cur_dist = dist(x[i], y[i], xc[j], yc[j])\n",
    "            if cur_dist < dist_to_clast:\n",
    "                dist_to_clast = cur_dist\n",
    "                clast = j\n",
    "        matr[i][2] = clast\n",
    "    for i in range(k):\n",
    "        fil = list(filter(lambda q: matr[q][2] == i, range(length)))\n",
    "        xc[i] = np.mean(x[fil])\n",
    "        yc[i] = np.mean(y[fil])\n",
    "            \n",
    "    '''\n",
    "    plt.scatter(xc, yc, marker = \"v\", c = 'r')\n",
    "    return matr[:, 2]\n",
    "\n",
    "sam, feat = eval(input(\"Количество точек, количество кластеров? (Через запятую)\\n\"))\n",
    "x, y = make_blobs(n_samples = sam, n_features = 2, centers = 50, random_state = 12)\n",
    "a = KMeans4(x, k = feat, eps = 1)\n",
    "plt.scatter(x[:, 0], x[:, 1], c = a)\n",
    "plt.show()\n",
    "    "
   ]
  },
  {
   "cell_type": "code",
   "execution_count": null,
   "metadata": {},
   "outputs": [],
   "source": []
  },
  {
   "cell_type": "code",
   "execution_count": null,
   "metadata": {},
   "outputs": [],
   "source": []
  }
 ],
 "metadata": {
  "kernelspec": {
   "display_name": "Python 3",
   "language": "python",
   "name": "python3"
  },
  "language_info": {
   "codemirror_mode": {
    "name": "ipython",
    "version": 3
   },
   "file_extension": ".py",
   "mimetype": "text/x-python",
   "name": "python",
   "nbconvert_exporter": "python",
   "pygments_lexer": "ipython3",
   "version": "3.7.0"
  }
 },
 "nbformat": 4,
 "nbformat_minor": 2
}
