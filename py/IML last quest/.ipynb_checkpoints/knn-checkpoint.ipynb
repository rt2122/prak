{
 "cells": [
  {
   "cell_type": "code",
   "execution_count": 1,
   "metadata": {},
   "outputs": [
    {
     "data": {
      "text/plain": [
       "(112500, 11)"
      ]
     },
     "execution_count": 1,
     "metadata": {},
     "output_type": "execute_result"
    }
   ],
   "source": [
    "import pandas as pd\n",
    "import numpy as np\n",
    "import matplotlib.pyplot as plt\n",
    "import sklearn as sk\n",
    "train = pd.read_csv(\"train.csv\")\n",
    "train = sk.utils.shuffle(train)\n",
    "train.shape"
   ]
  },
  {
   "cell_type": "code",
   "execution_count": 2,
   "metadata": {},
   "outputs": [],
   "source": [
    "train.fillna(-11, inplace=True)\n",
    "sep = 80000\n",
    "train4 = train[:sep]\n",
    "test4 = train[sep:]"
   ]
  },
  {
   "cell_type": "code",
   "execution_count": 3,
   "metadata": {},
   "outputs": [
    {
     "data": {
      "text/html": [
       "<div>\n",
       "<style scoped>\n",
       "    .dataframe tbody tr th:only-of-type {\n",
       "        vertical-align: middle;\n",
       "    }\n",
       "\n",
       "    .dataframe tbody tr th {\n",
       "        vertical-align: top;\n",
       "    }\n",
       "\n",
       "    .dataframe thead th {\n",
       "        text-align: right;\n",
       "    }\n",
       "</style>\n",
       "<table border=\"1\" class=\"dataframe\">\n",
       "  <thead>\n",
       "    <tr style=\"text-align: right;\">\n",
       "      <th></th>\n",
       "      <th>плохой_клиент</th>\n",
       "      <th>линии</th>\n",
       "      <th>возраст</th>\n",
       "      <th>поведение_30-59_дней</th>\n",
       "      <th>Debt_Ratio</th>\n",
       "      <th>доход</th>\n",
       "      <th>число_кредитов</th>\n",
       "      <th>поведение_90_дней</th>\n",
       "      <th>недвижимость</th>\n",
       "      <th>поведение_60-89_дней</th>\n",
       "      <th>семья</th>\n",
       "    </tr>\n",
       "  </thead>\n",
       "  <tbody>\n",
       "    <tr>\n",
       "      <th>111288</th>\n",
       "      <td>0</td>\n",
       "      <td>0.371915</td>\n",
       "      <td>54</td>\n",
       "      <td>0</td>\n",
       "      <td>0.612071</td>\n",
       "      <td>5500.0</td>\n",
       "      <td>17</td>\n",
       "      <td>0</td>\n",
       "      <td>1</td>\n",
       "      <td>1</td>\n",
       "      <td>1.0</td>\n",
       "    </tr>\n",
       "    <tr>\n",
       "      <th>4258</th>\n",
       "      <td>0</td>\n",
       "      <td>0.034829</td>\n",
       "      <td>49</td>\n",
       "      <td>0</td>\n",
       "      <td>0.009798</td>\n",
       "      <td>5000.0</td>\n",
       "      <td>2</td>\n",
       "      <td>0</td>\n",
       "      <td>0</td>\n",
       "      <td>0</td>\n",
       "      <td>0.0</td>\n",
       "    </tr>\n",
       "    <tr>\n",
       "      <th>25804</th>\n",
       "      <td>0</td>\n",
       "      <td>0.404004</td>\n",
       "      <td>47</td>\n",
       "      <td>1</td>\n",
       "      <td>0.203235</td>\n",
       "      <td>6986.0</td>\n",
       "      <td>10</td>\n",
       "      <td>0</td>\n",
       "      <td>1</td>\n",
       "      <td>0</td>\n",
       "      <td>2.0</td>\n",
       "    </tr>\n",
       "    <tr>\n",
       "      <th>56200</th>\n",
       "      <td>1</td>\n",
       "      <td>0.004685</td>\n",
       "      <td>40</td>\n",
       "      <td>0</td>\n",
       "      <td>0.015098</td>\n",
       "      <td>10000.0</td>\n",
       "      <td>3</td>\n",
       "      <td>0</td>\n",
       "      <td>0</td>\n",
       "      <td>0</td>\n",
       "      <td>2.0</td>\n",
       "    </tr>\n",
       "  </tbody>\n",
       "</table>\n",
       "</div>"
      ],
      "text/plain": [
       "        плохой_клиент     линии  возраст  поведение_30-59_дней  Debt_Ratio  \\\n",
       "111288              0  0.371915       54                     0    0.612071   \n",
       "4258                0  0.034829       49                     0    0.009798   \n",
       "25804               0  0.404004       47                     1    0.203235   \n",
       "56200               1  0.004685       40                     0    0.015098   \n",
       "\n",
       "          доход  число_кредитов  поведение_90_дней  недвижимость  \\\n",
       "111288   5500.0              17                  0             1   \n",
       "4258     5000.0               2                  0             0   \n",
       "25804    6986.0              10                  0             1   \n",
       "56200   10000.0               3                  0             0   \n",
       "\n",
       "        поведение_60-89_дней  семья  \n",
       "111288                     1    1.0  \n",
       "4258                       0    0.0  \n",
       "25804                      0    2.0  \n",
       "56200                      0    2.0  "
      ]
     },
     "execution_count": 3,
     "metadata": {},
     "output_type": "execute_result"
    }
   ],
   "source": [
    "test4.head(4)"
   ]
  },
  {
   "cell_type": "code",
   "execution_count": 4,
   "metadata": {},
   "outputs": [],
   "source": [
    "from sklearn.neighbors import KNeighborsClassifier\n",
    "knn = KNeighborsClassifier(n_neighbors=5)\n",
    "test_target = test4.pop(\"плохой_клиент\")\n",
    "train_target = train4.pop(\"плохой_клиент\")\n",
    "knn.fit(train4, train_target)\n",
    "ans = knn.predict(test4)"
   ]
  },
  {
   "cell_type": "code",
   "execution_count": 5,
   "metadata": {},
   "outputs": [
    {
     "name": "stdout",
     "output_type": "stream",
     "text": [
      "0.9326769230769231\n"
     ]
    }
   ],
   "source": [
    "num = 0\n",
    "test_target = list(test_target)\n",
    "for i in range(len(ans)):\n",
    "    if int(ans[i]) == int(test_target[i]):\n",
    "        num += 1\n",
    "print(num / len(ans))"
   ]
  },
  {
   "cell_type": "code",
   "execution_count": null,
   "metadata": {},
   "outputs": [],
   "source": []
  },
  {
   "cell_type": "code",
   "execution_count": null,
   "metadata": {},
   "outputs": [],
   "source": []
  }
 ],
 "metadata": {
  "kernelspec": {
   "display_name": "Python 3",
   "language": "python",
   "name": "python3"
  },
  "language_info": {
   "codemirror_mode": {
    "name": "ipython",
    "version": 3
   },
   "file_extension": ".py",
   "mimetype": "text/x-python",
   "name": "python",
   "nbconvert_exporter": "python",
   "pygments_lexer": "ipython3",
   "version": "3.7.0"
  }
 },
 "nbformat": 4,
 "nbformat_minor": 2
}
