{
 "cells": [
  {
   "cell_type": "code",
   "execution_count": 1,
   "metadata": {},
   "outputs": [
    {
     "data": {
      "text/plain": [
       "(112500, 11)"
      ]
     },
     "execution_count": 1,
     "metadata": {},
     "output_type": "execute_result"
    }
   ],
   "source": [
    "import pandas as pd\n",
    "import numpy as np\n",
    "import matplotlib.pyplot as plt\n",
    "import sklearn as sk\n",
    "train = pd.read_csv(\"train.csv\")\n",
    "train = sk.utils.shuffle(train)\n",
    "train.shape"
   ]
  },
  {
   "cell_type": "code",
   "execution_count": 2,
   "metadata": {},
   "outputs": [],
   "source": [
    "train.fillna(-11, inplace=True)\n",
    "sep = 80000\n",
    "train4 = train[:sep]\n",
    "test4 = train[sep:]"
   ]
  },
  {
   "cell_type": "code",
   "execution_count": 3,
   "metadata": {},
   "outputs": [
    {
     "data": {
      "text/html": [
       "<div>\n",
       "<style scoped>\n",
       "    .dataframe tbody tr th:only-of-type {\n",
       "        vertical-align: middle;\n",
       "    }\n",
       "\n",
       "    .dataframe tbody tr th {\n",
       "        vertical-align: top;\n",
       "    }\n",
       "\n",
       "    .dataframe thead th {\n",
       "        text-align: right;\n",
       "    }\n",
       "</style>\n",
       "<table border=\"1\" class=\"dataframe\">\n",
       "  <thead>\n",
       "    <tr style=\"text-align: right;\">\n",
       "      <th></th>\n",
       "      <th>плохой_клиент</th>\n",
       "      <th>линии</th>\n",
       "      <th>возраст</th>\n",
       "      <th>поведение_30-59_дней</th>\n",
       "      <th>Debt_Ratio</th>\n",
       "      <th>доход</th>\n",
       "      <th>число_кредитов</th>\n",
       "      <th>поведение_90_дней</th>\n",
       "      <th>недвижимость</th>\n",
       "      <th>поведение_60-89_дней</th>\n",
       "      <th>семья</th>\n",
       "    </tr>\n",
       "  </thead>\n",
       "  <tbody>\n",
       "    <tr>\n",
       "      <th>107252</th>\n",
       "      <td>0</td>\n",
       "      <td>0.924415</td>\n",
       "      <td>38</td>\n",
       "      <td>0</td>\n",
       "      <td>0.274227</td>\n",
       "      <td>3332.0</td>\n",
       "      <td>6</td>\n",
       "      <td>0</td>\n",
       "      <td>0</td>\n",
       "      <td>0</td>\n",
       "      <td>3.0</td>\n",
       "    </tr>\n",
       "    <tr>\n",
       "      <th>63206</th>\n",
       "      <td>0</td>\n",
       "      <td>0.000000</td>\n",
       "      <td>40</td>\n",
       "      <td>0</td>\n",
       "      <td>0.431785</td>\n",
       "      <td>4800.0</td>\n",
       "      <td>10</td>\n",
       "      <td>0</td>\n",
       "      <td>1</td>\n",
       "      <td>0</td>\n",
       "      <td>3.0</td>\n",
       "    </tr>\n",
       "    <tr>\n",
       "      <th>77744</th>\n",
       "      <td>0</td>\n",
       "      <td>0.000000</td>\n",
       "      <td>84</td>\n",
       "      <td>0</td>\n",
       "      <td>0.000000</td>\n",
       "      <td>3006.0</td>\n",
       "      <td>3</td>\n",
       "      <td>0</td>\n",
       "      <td>0</td>\n",
       "      <td>0</td>\n",
       "      <td>0.0</td>\n",
       "    </tr>\n",
       "    <tr>\n",
       "      <th>109845</th>\n",
       "      <td>0</td>\n",
       "      <td>0.493904</td>\n",
       "      <td>53</td>\n",
       "      <td>0</td>\n",
       "      <td>6867.000000</td>\n",
       "      <td>-11.0</td>\n",
       "      <td>12</td>\n",
       "      <td>0</td>\n",
       "      <td>3</td>\n",
       "      <td>0</td>\n",
       "      <td>0.0</td>\n",
       "    </tr>\n",
       "  </tbody>\n",
       "</table>\n",
       "</div>"
      ],
      "text/plain": [
       "        плохой_клиент     линии  возраст  поведение_30-59_дней   Debt_Ratio  \\\n",
       "107252              0  0.924415       38                     0     0.274227   \n",
       "63206               0  0.000000       40                     0     0.431785   \n",
       "77744               0  0.000000       84                     0     0.000000   \n",
       "109845              0  0.493904       53                     0  6867.000000   \n",
       "\n",
       "         доход  число_кредитов  поведение_90_дней  недвижимость  \\\n",
       "107252  3332.0               6                  0             0   \n",
       "63206   4800.0              10                  0             1   \n",
       "77744   3006.0               3                  0             0   \n",
       "109845   -11.0              12                  0             3   \n",
       "\n",
       "        поведение_60-89_дней  семья  \n",
       "107252                     0    3.0  \n",
       "63206                      0    3.0  \n",
       "77744                      0    0.0  \n",
       "109845                     0    0.0  "
      ]
     },
     "execution_count": 3,
     "metadata": {},
     "output_type": "execute_result"
    }
   ],
   "source": [
    "test4.head(4)"
   ]
  },
  {
   "cell_type": "code",
   "execution_count": 4,
   "metadata": {},
   "outputs": [
    {
     "name": "stderr",
     "output_type": "stream",
     "text": [
      "/home/rt2122/miniconda3/lib/python3.7/site-packages/sklearn/svm/base.py:196: FutureWarning: The default value of gamma will change from 'auto' to 'scale' in version 0.22 to account better for unscaled features. Set gamma explicitly to 'auto' or 'scale' to avoid this warning.\n",
      "  \"avoid this warning.\", FutureWarning)\n"
     ]
    }
   ],
   "source": [
    "from sklearn.svm import SVC\n",
    "test_target = test4.pop(\"плохой_клиент\")\n",
    "train_target = train4.pop(\"плохой_клиент\")\n",
    "svm = SVC(kernel='rbf')\n",
    "svm.fit(train4, train_target)\n",
    "ans = svm.predict(test4)"
   ]
  },
  {
   "cell_type": "code",
   "execution_count": 5,
   "metadata": {},
   "outputs": [
    {
     "name": "stdout",
     "output_type": "stream",
     "text": [
      "0.9317230769230769\n"
     ]
    }
   ],
   "source": [
    "num = 0\n",
    "test_target = list(test_target)\n",
    "for i in range(len(ans)):\n",
    "    if int(ans[i]) == int(test_target[i]):\n",
    "        num += 1\n",
    "print(num / len(ans))"
   ]
  },
  {
   "cell_type": "code",
   "execution_count": null,
   "metadata": {},
   "outputs": [],
   "source": []
  }
 ],
 "metadata": {
  "kernelspec": {
   "display_name": "Python 3",
   "language": "python",
   "name": "python3"
  },
  "language_info": {
   "codemirror_mode": {
    "name": "ipython",
    "version": 3
   },
   "file_extension": ".py",
   "mimetype": "text/x-python",
   "name": "python",
   "nbconvert_exporter": "python",
   "pygments_lexer": "ipython3",
   "version": "3.7.0"
  }
 },
 "nbformat": 4,
 "nbformat_minor": 2
}
