{
 "cells": [
  {
   "cell_type": "code",
   "execution_count": 1,
   "metadata": {},
   "outputs": [
    {
     "data": {
      "text/plain": [
       "(112500, 11)"
      ]
     },
     "execution_count": 1,
     "metadata": {},
     "output_type": "execute_result"
    }
   ],
   "source": [
    "import pandas as pd\n",
    "import numpy as np\n",
    "import matplotlib.pyplot as plt\n",
    "import sklearn as sk\n",
    "train = pd.read_csv(\"train.csv\")\n",
    "train = sk.utils.shuffle(train)\n",
    "train.shape"
   ]
  },
  {
   "cell_type": "code",
   "execution_count": 2,
   "metadata": {},
   "outputs": [],
   "source": [
    "train.fillna(-11, inplace=True)\n",
    "sep = 80000\n",
    "train4 = train[:sep]\n",
    "test4 = train[sep:]"
   ]
  },
  {
   "cell_type": "code",
   "execution_count": 3,
   "metadata": {},
   "outputs": [
    {
     "data": {
      "text/html": [
       "<div>\n",
       "<style scoped>\n",
       "    .dataframe tbody tr th:only-of-type {\n",
       "        vertical-align: middle;\n",
       "    }\n",
       "\n",
       "    .dataframe tbody tr th {\n",
       "        vertical-align: top;\n",
       "    }\n",
       "\n",
       "    .dataframe thead th {\n",
       "        text-align: right;\n",
       "    }\n",
       "</style>\n",
       "<table border=\"1\" class=\"dataframe\">\n",
       "  <thead>\n",
       "    <tr style=\"text-align: right;\">\n",
       "      <th></th>\n",
       "      <th>плохой_клиент</th>\n",
       "      <th>линии</th>\n",
       "      <th>возраст</th>\n",
       "      <th>поведение_30-59_дней</th>\n",
       "      <th>Debt_Ratio</th>\n",
       "      <th>доход</th>\n",
       "      <th>число_кредитов</th>\n",
       "      <th>поведение_90_дней</th>\n",
       "      <th>недвижимость</th>\n",
       "      <th>поведение_60-89_дней</th>\n",
       "      <th>семья</th>\n",
       "    </tr>\n",
       "  </thead>\n",
       "  <tbody>\n",
       "    <tr>\n",
       "      <th>54300</th>\n",
       "      <td>0</td>\n",
       "      <td>1.000000</td>\n",
       "      <td>27</td>\n",
       "      <td>0</td>\n",
       "      <td>0.281658</td>\n",
       "      <td>1760.0</td>\n",
       "      <td>5</td>\n",
       "      <td>0</td>\n",
       "      <td>0</td>\n",
       "      <td>0</td>\n",
       "      <td>0.0</td>\n",
       "    </tr>\n",
       "    <tr>\n",
       "      <th>56311</th>\n",
       "      <td>0</td>\n",
       "      <td>0.020195</td>\n",
       "      <td>80</td>\n",
       "      <td>0</td>\n",
       "      <td>24.000000</td>\n",
       "      <td>-11.0</td>\n",
       "      <td>3</td>\n",
       "      <td>0</td>\n",
       "      <td>0</td>\n",
       "      <td>0</td>\n",
       "      <td>-11.0</td>\n",
       "    </tr>\n",
       "    <tr>\n",
       "      <th>51532</th>\n",
       "      <td>0</td>\n",
       "      <td>0.142471</td>\n",
       "      <td>59</td>\n",
       "      <td>0</td>\n",
       "      <td>0.545685</td>\n",
       "      <td>4333.0</td>\n",
       "      <td>8</td>\n",
       "      <td>0</td>\n",
       "      <td>1</td>\n",
       "      <td>0</td>\n",
       "      <td>0.0</td>\n",
       "    </tr>\n",
       "    <tr>\n",
       "      <th>4654</th>\n",
       "      <td>1</td>\n",
       "      <td>0.986575</td>\n",
       "      <td>47</td>\n",
       "      <td>1</td>\n",
       "      <td>3205.000000</td>\n",
       "      <td>-11.0</td>\n",
       "      <td>9</td>\n",
       "      <td>5</td>\n",
       "      <td>1</td>\n",
       "      <td>3</td>\n",
       "      <td>0.0</td>\n",
       "    </tr>\n",
       "  </tbody>\n",
       "</table>\n",
       "</div>"
      ],
      "text/plain": [
       "       плохой_клиент     линии  возраст  поведение_30-59_дней   Debt_Ratio  \\\n",
       "54300              0  1.000000       27                     0     0.281658   \n",
       "56311              0  0.020195       80                     0    24.000000   \n",
       "51532              0  0.142471       59                     0     0.545685   \n",
       "4654               1  0.986575       47                     1  3205.000000   \n",
       "\n",
       "        доход  число_кредитов  поведение_90_дней  недвижимость  \\\n",
       "54300  1760.0               5                  0             0   \n",
       "56311   -11.0               3                  0             0   \n",
       "51532  4333.0               8                  0             1   \n",
       "4654    -11.0               9                  5             1   \n",
       "\n",
       "       поведение_60-89_дней  семья  \n",
       "54300                     0    0.0  \n",
       "56311                     0  -11.0  \n",
       "51532                     0    0.0  \n",
       "4654                      3    0.0  "
      ]
     },
     "execution_count": 3,
     "metadata": {},
     "output_type": "execute_result"
    }
   ],
   "source": [
    "test4.head(4)"
   ]
  },
  {
   "cell_type": "code",
   "execution_count": 4,
   "metadata": {},
   "outputs": [],
   "source": [
    "from sklearn.ensemble import RandomForestClassifier\n",
    "rf = RandomForestClassifier(n_estimators=10)\n",
    "test_target = test4.pop(\"плохой_клиент\")\n",
    "train_target = train4.pop(\"плохой_клиент\")\n",
    "rf.fit(train4, train_target)\n",
    "ans = rf.predict(test4)"
   ]
  },
  {
   "cell_type": "code",
   "execution_count": 5,
   "metadata": {},
   "outputs": [
    {
     "name": "stdout",
     "output_type": "stream",
     "text": [
      "0.9294153846153846\n"
     ]
    }
   ],
   "source": [
    "num = 0\n",
    "test_target = list(test_target)\n",
    "for i in range(len(ans)):\n",
    "    if int(ans[i]) == int(test_target[i]):\n",
    "        num += 1\n",
    "print(num / len(ans))"
   ]
  },
  {
   "cell_type": "code",
   "execution_count": 6,
   "metadata": {},
   "outputs": [
    {
     "data": {
      "text/plain": [
       "numpy.ndarray"
      ]
     },
     "execution_count": 6,
     "metadata": {},
     "output_type": "execute_result"
    }
   ],
   "source": []
  },
  {
   "cell_type": "code",
   "execution_count": null,
   "metadata": {},
   "outputs": [],
   "source": []
  }
 ],
 "metadata": {
  "kernelspec": {
   "display_name": "Python 3",
   "language": "python",
   "name": "python3"
  },
  "language_info": {
   "codemirror_mode": {
    "name": "ipython",
    "version": 3
   },
   "file_extension": ".py",
   "mimetype": "text/x-python",
   "name": "python",
   "nbconvert_exporter": "python",
   "pygments_lexer": "ipython3",
   "version": "3.7.0"
  }
 },
 "nbformat": 4,
 "nbformat_minor": 2
}
