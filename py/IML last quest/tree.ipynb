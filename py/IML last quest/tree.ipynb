{
 "cells": [
  {
   "cell_type": "code",
   "execution_count": 1,
   "metadata": {},
   "outputs": [
    {
     "data": {
      "text/plain": [
       "(112500, 11)"
      ]
     },
     "execution_count": 1,
     "metadata": {},
     "output_type": "execute_result"
    }
   ],
   "source": [
    "import pandas as pd\n",
    "import numpy as np\n",
    "import matplotlib.pyplot as plt\n",
    "import sklearn as sk\n",
    "train = pd.read_csv(\"train.csv\")\n",
    "train = sk.utils.shuffle(train)\n",
    "train.shape"
   ]
  },
  {
   "cell_type": "code",
   "execution_count": 2,
   "metadata": {},
   "outputs": [],
   "source": [
    "train.fillna(-11, inplace=True)\n",
    "sep = 80000\n",
    "train4 = train[:sep]\n",
    "test4 = train[sep:]"
   ]
  },
  {
   "cell_type": "code",
   "execution_count": 3,
   "metadata": {},
   "outputs": [
    {
     "data": {
      "text/html": [
       "<div>\n",
       "<style scoped>\n",
       "    .dataframe tbody tr th:only-of-type {\n",
       "        vertical-align: middle;\n",
       "    }\n",
       "\n",
       "    .dataframe tbody tr th {\n",
       "        vertical-align: top;\n",
       "    }\n",
       "\n",
       "    .dataframe thead th {\n",
       "        text-align: right;\n",
       "    }\n",
       "</style>\n",
       "<table border=\"1\" class=\"dataframe\">\n",
       "  <thead>\n",
       "    <tr style=\"text-align: right;\">\n",
       "      <th></th>\n",
       "      <th>плохой_клиент</th>\n",
       "      <th>линии</th>\n",
       "      <th>возраст</th>\n",
       "      <th>поведение_30-59_дней</th>\n",
       "      <th>Debt_Ratio</th>\n",
       "      <th>доход</th>\n",
       "      <th>число_кредитов</th>\n",
       "      <th>поведение_90_дней</th>\n",
       "      <th>недвижимость</th>\n",
       "      <th>поведение_60-89_дней</th>\n",
       "      <th>семья</th>\n",
       "    </tr>\n",
       "  </thead>\n",
       "  <tbody>\n",
       "    <tr>\n",
       "      <th>26849</th>\n",
       "      <td>0</td>\n",
       "      <td>0.026804</td>\n",
       "      <td>73</td>\n",
       "      <td>0</td>\n",
       "      <td>56.000000</td>\n",
       "      <td>-11.0</td>\n",
       "      <td>11</td>\n",
       "      <td>0</td>\n",
       "      <td>0</td>\n",
       "      <td>0</td>\n",
       "      <td>0.0</td>\n",
       "    </tr>\n",
       "    <tr>\n",
       "      <th>22678</th>\n",
       "      <td>0</td>\n",
       "      <td>0.208979</td>\n",
       "      <td>56</td>\n",
       "      <td>1</td>\n",
       "      <td>3.439279</td>\n",
       "      <td>13100.0</td>\n",
       "      <td>24</td>\n",
       "      <td>0</td>\n",
       "      <td>5</td>\n",
       "      <td>0</td>\n",
       "      <td>0.0</td>\n",
       "    </tr>\n",
       "    <tr>\n",
       "      <th>87144</th>\n",
       "      <td>0</td>\n",
       "      <td>0.279498</td>\n",
       "      <td>36</td>\n",
       "      <td>0</td>\n",
       "      <td>0.154033</td>\n",
       "      <td>4933.0</td>\n",
       "      <td>14</td>\n",
       "      <td>0</td>\n",
       "      <td>0</td>\n",
       "      <td>0</td>\n",
       "      <td>0.0</td>\n",
       "    </tr>\n",
       "    <tr>\n",
       "      <th>84223</th>\n",
       "      <td>0</td>\n",
       "      <td>0.638300</td>\n",
       "      <td>50</td>\n",
       "      <td>0</td>\n",
       "      <td>0.664180</td>\n",
       "      <td>6166.0</td>\n",
       "      <td>17</td>\n",
       "      <td>0</td>\n",
       "      <td>2</td>\n",
       "      <td>0</td>\n",
       "      <td>1.0</td>\n",
       "    </tr>\n",
       "  </tbody>\n",
       "</table>\n",
       "</div>"
      ],
      "text/plain": [
       "       плохой_клиент     линии  возраст  поведение_30-59_дней  Debt_Ratio  \\\n",
       "26849              0  0.026804       73                     0   56.000000   \n",
       "22678              0  0.208979       56                     1    3.439279   \n",
       "87144              0  0.279498       36                     0    0.154033   \n",
       "84223              0  0.638300       50                     0    0.664180   \n",
       "\n",
       "         доход  число_кредитов  поведение_90_дней  недвижимость  \\\n",
       "26849    -11.0              11                  0             0   \n",
       "22678  13100.0              24                  0             5   \n",
       "87144   4933.0              14                  0             0   \n",
       "84223   6166.0              17                  0             2   \n",
       "\n",
       "       поведение_60-89_дней  семья  \n",
       "26849                     0    0.0  \n",
       "22678                     0    0.0  \n",
       "87144                     0    0.0  \n",
       "84223                     0    1.0  "
      ]
     },
     "execution_count": 3,
     "metadata": {},
     "output_type": "execute_result"
    }
   ],
   "source": [
    "test4.head(4)"
   ]
  },
  {
   "cell_type": "code",
   "execution_count": 4,
   "metadata": {},
   "outputs": [],
   "source": [
    "from sklearn.tree import DecisionTreeClassifier\n",
    "tree = DecisionTreeClassifier(max_depth=10)\n",
    "test_target = test4.pop(\"плохой_клиент\")\n",
    "train_target = train4.pop(\"плохой_клиент\")\n",
    "tree.fit(train4, train_target)\n",
    "ans = tree.predict(test4)"
   ]
  },
  {
   "cell_type": "code",
   "execution_count": 5,
   "metadata": {},
   "outputs": [
    {
     "name": "stdout",
     "output_type": "stream",
     "text": [
      "0.9319692307692308\n"
     ]
    }
   ],
   "source": [
    "num = 0\n",
    "test_target = list(test_target)\n",
    "for i in range(len(ans)):\n",
    "    if int(ans[i]) == int(test_target[i]):\n",
    "        num += 1\n",
    "print(num / len(ans))"
   ]
  },
  {
   "cell_type": "code",
   "execution_count": null,
   "metadata": {},
   "outputs": [],
   "source": []
  },
  {
   "cell_type": "code",
   "execution_count": null,
   "metadata": {},
   "outputs": [],
   "source": []
  }
 ],
 "metadata": {
  "kernelspec": {
   "display_name": "Python 3",
   "language": "python",
   "name": "python3"
  },
  "language_info": {
   "codemirror_mode": {
    "name": "ipython",
    "version": 3
   },
   "file_extension": ".py",
   "mimetype": "text/x-python",
   "name": "python",
   "nbconvert_exporter": "python",
   "pygments_lexer": "ipython3",
   "version": "3.7.0"
  }
 },
 "nbformat": 4,
 "nbformat_minor": 2
}
