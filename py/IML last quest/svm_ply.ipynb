{
 "cells": [
  {
   "cell_type": "code",
   "execution_count": 1,
   "metadata": {},
   "outputs": [
    {
     "data": {
      "text/plain": [
       "(112500, 11)"
      ]
     },
     "execution_count": 1,
     "metadata": {},
     "output_type": "execute_result"
    }
   ],
   "source": [
    "import pandas as pd\n",
    "import numpy as np\n",
    "import matplotlib.pyplot as plt\n",
    "import sklearn as sk\n",
    "train = pd.read_csv(\"train.csv\")\n",
    "train = sk.utils.shuffle(train)\n",
    "train.shape"
   ]
  },
  {
   "cell_type": "code",
   "execution_count": 2,
   "metadata": {},
   "outputs": [],
   "source": [
    "train.fillna(-11, inplace=True)\n",
    "sep = 80000\n",
    "train4 = train[:sep]\n",
    "test4 = train[sep:]"
   ]
  },
  {
   "cell_type": "code",
   "execution_count": 3,
   "metadata": {},
   "outputs": [
    {
     "data": {
      "text/html": [
       "<div>\n",
       "<style scoped>\n",
       "    .dataframe tbody tr th:only-of-type {\n",
       "        vertical-align: middle;\n",
       "    }\n",
       "\n",
       "    .dataframe tbody tr th {\n",
       "        vertical-align: top;\n",
       "    }\n",
       "\n",
       "    .dataframe thead th {\n",
       "        text-align: right;\n",
       "    }\n",
       "</style>\n",
       "<table border=\"1\" class=\"dataframe\">\n",
       "  <thead>\n",
       "    <tr style=\"text-align: right;\">\n",
       "      <th></th>\n",
       "      <th>плохой_клиент</th>\n",
       "      <th>линии</th>\n",
       "      <th>возраст</th>\n",
       "      <th>поведение_30-59_дней</th>\n",
       "      <th>Debt_Ratio</th>\n",
       "      <th>доход</th>\n",
       "      <th>число_кредитов</th>\n",
       "      <th>поведение_90_дней</th>\n",
       "      <th>недвижимость</th>\n",
       "      <th>поведение_60-89_дней</th>\n",
       "      <th>семья</th>\n",
       "    </tr>\n",
       "  </thead>\n",
       "  <tbody>\n",
       "    <tr>\n",
       "      <th>31929</th>\n",
       "      <td>0</td>\n",
       "      <td>0.959671</td>\n",
       "      <td>40</td>\n",
       "      <td>1</td>\n",
       "      <td>0.673109</td>\n",
       "      <td>3000.0</td>\n",
       "      <td>8</td>\n",
       "      <td>2</td>\n",
       "      <td>1</td>\n",
       "      <td>0</td>\n",
       "      <td>1.0</td>\n",
       "    </tr>\n",
       "    <tr>\n",
       "      <th>58448</th>\n",
       "      <td>1</td>\n",
       "      <td>1.000000</td>\n",
       "      <td>52</td>\n",
       "      <td>4</td>\n",
       "      <td>0.247944</td>\n",
       "      <td>7904.0</td>\n",
       "      <td>13</td>\n",
       "      <td>2</td>\n",
       "      <td>1</td>\n",
       "      <td>1</td>\n",
       "      <td>0.0</td>\n",
       "    </tr>\n",
       "    <tr>\n",
       "      <th>39669</th>\n",
       "      <td>0</td>\n",
       "      <td>0.000000</td>\n",
       "      <td>50</td>\n",
       "      <td>0</td>\n",
       "      <td>1428.000000</td>\n",
       "      <td>-11.0</td>\n",
       "      <td>5</td>\n",
       "      <td>0</td>\n",
       "      <td>1</td>\n",
       "      <td>0</td>\n",
       "      <td>0.0</td>\n",
       "    </tr>\n",
       "    <tr>\n",
       "      <th>64365</th>\n",
       "      <td>0</td>\n",
       "      <td>0.451095</td>\n",
       "      <td>59</td>\n",
       "      <td>0</td>\n",
       "      <td>0.440731</td>\n",
       "      <td>7600.0</td>\n",
       "      <td>19</td>\n",
       "      <td>0</td>\n",
       "      <td>1</td>\n",
       "      <td>0</td>\n",
       "      <td>3.0</td>\n",
       "    </tr>\n",
       "  </tbody>\n",
       "</table>\n",
       "</div>"
      ],
      "text/plain": [
       "       плохой_клиент     линии  возраст  поведение_30-59_дней   Debt_Ratio  \\\n",
       "31929              0  0.959671       40                     1     0.673109   \n",
       "58448              1  1.000000       52                     4     0.247944   \n",
       "39669              0  0.000000       50                     0  1428.000000   \n",
       "64365              0  0.451095       59                     0     0.440731   \n",
       "\n",
       "        доход  число_кредитов  поведение_90_дней  недвижимость  \\\n",
       "31929  3000.0               8                  2             1   \n",
       "58448  7904.0              13                  2             1   \n",
       "39669   -11.0               5                  0             1   \n",
       "64365  7600.0              19                  0             1   \n",
       "\n",
       "       поведение_60-89_дней  семья  \n",
       "31929                     0    1.0  \n",
       "58448                     1    0.0  \n",
       "39669                     0    0.0  \n",
       "64365                     0    3.0  "
      ]
     },
     "execution_count": 3,
     "metadata": {},
     "output_type": "execute_result"
    }
   ],
   "source": [
    "test4.head(4)"
   ]
  },
  {
   "cell_type": "code",
   "execution_count": null,
   "metadata": {},
   "outputs": [
    {
     "name": "stderr",
     "output_type": "stream",
     "text": [
      "/home/rt2122/miniconda3/lib/python3.7/site-packages/sklearn/svm/base.py:196: FutureWarning: The default value of gamma will change from 'auto' to 'scale' in version 0.22 to account better for unscaled features. Set gamma explicitly to 'auto' or 'scale' to avoid this warning.\n",
      "  \"avoid this warning.\", FutureWarning)\n"
     ]
    }
   ],
   "source": [
    "from sklearn.svm import SVC\n",
    "test_target = test4.pop(\"плохой_клиент\")\n",
    "train_target = train4.pop(\"плохой_клиент\")\n",
    "svm = SVC(kernel='poly')\n",
    "svm.fit(train4, train_target)\n",
    "ans = svm.predict(test4)"
   ]
  },
  {
   "cell_type": "code",
   "execution_count": null,
   "metadata": {},
   "outputs": [],
   "source": [
    "num = 0\n",
    "test_target = list(test_target)\n",
    "for i in range(len(ans)):\n",
    "    if int(ans[i]) == int(test_target[i]):\n",
    "        num += 1\n",
    "print(num / len(ans))"
   ]
  },
  {
   "cell_type": "code",
   "execution_count": null,
   "metadata": {},
   "outputs": [],
   "source": []
  }
 ],
 "metadata": {
  "kernelspec": {
   "display_name": "Python 3",
   "language": "python",
   "name": "python3"
  },
  "language_info": {
   "codemirror_mode": {
    "name": "ipython",
    "version": 3
   },
   "file_extension": ".py",
   "mimetype": "text/x-python",
   "name": "python",
   "nbconvert_exporter": "python",
   "pygments_lexer": "ipython3",
   "version": "3.7.0"
  }
 },
 "nbformat": 4,
 "nbformat_minor": 2
}
