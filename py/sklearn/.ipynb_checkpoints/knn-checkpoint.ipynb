{
 "cells": [
  {
   "cell_type": "code",
   "execution_count": 43,
   "metadata": {},
   "outputs": [],
   "source": [
    "import random\n",
    "import math\n",
    "import pylab as pl\n",
    "import numpy as np\n",
    "from matplotlib.colors import ListedColormap\n",
    "from collections import Counter\n",
    "import matplotlib.pyplot as plt\n",
    "\n",
    "\n",
    "def what_cell(x, x_min, x_max, n_cell):\n",
    "        cell = int((x - x_min) * n_cell / (x_max - x_min))\n",
    "        if cell == n_cell:\n",
    "            cell = cell - 1\n",
    "        return cell\n",
    "\n",
    "class kNN4():    \n",
    "    \n",
    "    def dist (a, b):\n",
    "        return np.sqrt((a[0] - b[0])**2 + (a[1] - b[1])**2)\n",
    "    \n",
    "    def _gen(n, x_start, y_start): #tested\n",
    "        direcs = [(0, -1), (-1, 0), (0, 1), (1, 0)]\n",
    "        yy = np.array([x_start, y_start])\n",
    "        direc = 2\n",
    "        yield yy\n",
    "        d = 1\n",
    "        while d <= n:\n",
    "            for t in range(2):\n",
    "                for dd in range(d):\n",
    "                    for k in range(2):\n",
    "                        if dd == d - 1 and d == n:\n",
    "                            return \n",
    "                        yy[k] += direcs[direc][k]\n",
    "                        yield yy\n",
    "                direc = (direc + 1) % len(direcs)\n",
    "            d += 1\n",
    "    \n",
    "    def __init__(self, K = 1, n_cell = 4):\n",
    "        self.K = K\n",
    "        self.n_cell = n_cell\n",
    "        self._cells = None\n",
    "        self._example = None\n",
    "        self._groups = None\n",
    "        self._mins = None\n",
    "        self._maxs = None\n",
    "        self.test = None\n",
    "        self.groups = None\n",
    "        self.cens = None\n",
    "    \n",
    "    def train(self, M = None, groups = None):\n",
    "        if M.shape[0] == 0 or groups.shape[0] == 0:\n",
    "            raise Exception(\"No data#\\n\")\n",
    "        n_dots = M.shape[0]\n",
    "        self._groups = groups\n",
    "        cells = np.zeros(n_dots * 2).reshape(n_dots, 2)\n",
    "        mins = np.array([M[:, 0].min(), M[:, 1].min()])\n",
    "        maxs = np.array([M[:, 0].max(), M[:, 1].max()])\n",
    "        lens = maxs - mins\n",
    "        for i in range(n_dots):\n",
    "            for j in range(2):\n",
    "                cells[i][j] = what_cell(M[i][j], mins[j], maxs[j], self.n_cell)\n",
    "        self._example = M\n",
    "        self._cells = cells\n",
    "        self._mins = mins\n",
    "        self._maxs = maxs\n",
    "        \n",
    "    def test(self, test = None):\n",
    "        if test == None:\n",
    "            raise Exception(\"No data#\\n\")\n",
    "        n_dots = test.shape[0]\n",
    "        groups_test = np.zeros(n_dots)\n",
    "        for i in range(n_dots):\n",
    "            cell = np.zeros(2)\n",
    "            for j in range(2):\n",
    "                cell[j] = what_cell(test[i][j], self.mins[j], self.maxs[j], self.n_cell)\n",
    "            fil = None\n",
    "            for this_cell in _gen(self.n_cell // 2, cell[0], cell[1]):\n",
    "                fil = np.concatenate(fil, np.arange(self.n_cell)[(cells[:][0] == cell[0]) & (cells[:][1] == cell[j])])\n",
    "                if fil.shape[0] >= self.K:\n",
    "                    break\n",
    "            groups_test[i] = Counter(self.groups[fil]).most_common(1)[0][0]\n",
    "        self.groups = groups_test\n",
    "        self.test = test\n",
    "    \n",
    "    def current_mood(self):\n",
    "        print(\"K =\", self.K)\n",
    "        print(\"n_cell =\", self.n_cell)\n",
    "        print(\"cells =\", self._cells)\n",
    "        print(\"example =\", self._example)\n",
    "        print(\"_groups =\", self._groups)\n",
    "        print(\"_mins =\", self._mins)\n",
    "        print(\"_maxs =\", self._maxs)\n",
    "        print(\"test =\", self.test)\n",
    "        print(\"groups = \", self.groups)\n",
    "    \n",
    "    def centers_of_cells(self):\n",
    "        if self.cens.shape[0] == 0:\n",
    "            ceters = np.array()\n",
    "            for i in range(self.n_cell):\n",
    "                for j in range(self.n_cell):\n",
    "                    plt.scatter(self._mins[0] + (i * (self._maxs[0] - self._mins[0]) / 2 * self.n_cell), \n",
    "                                self._mins[1] + (j * (self._maxs[1] - self._mins[1]) / 2 * self.n_cell))\n"
   ]
  },
  {
   "cell_type": "code",
   "execution_count": 44,
   "metadata": {},
   "outputs": [
    {
     "name": "stdout",
     "output_type": "stream",
     "text": [
      "K = 2\n",
      "n_cell = 4\n",
      "cells = [[0. 0.]\n",
      " [2. 2.]\n",
      " [3. 3.]]\n",
      "example = [[1 2]\n",
      " [2 3]\n",
      " [3 4]]\n",
      "_groups = [1 2 3]\n",
      "_mins = [1 2]\n",
      "_maxs = [3 4]\n",
      "test = None\n",
      "groups =  None\n"
     ]
    },
    {
     "data": {
      "image/png": "[encoded data removed]",
      "text/plain": [
       "<Figure size 432x288 with 1 Axes>"
      ]
     },
     "metadata": {
      "needs_background": "light"
     },
     "output_type": "display_data"
    }
   ],
   "source": [
    "M = np.array([[1, 2],[2, 3],[3, 4]])\n",
    "groups = np.array([1, 2, 3])\n",
    "knn = kNN4(2, 4)\n",
    "knn.train(M, groups)\n",
    "knn.current_mood()\n",
    "knn.centers_of_cells()"
   ]
  },
  {
   "cell_type": "code",
   "execution_count": null,
   "metadata": {},
   "outputs": [],
   "source": []
  }
 ],
 "metadata": {
  "kernelspec": {
   "display_name": "Python 3",
   "language": "python",
   "name": "python3"
  },
  "language_info": {
   "codemirror_mode": {
    "name": "ipython",
    "version": 3
   },
   "file_extension": ".py",
   "mimetype": "text/x-python",
   "name": "python",
   "nbconvert_exporter": "python",
   "pygments_lexer": "ipython3",
   "version": "3.7.0"
  }
 },
 "nbformat": 4,
 "nbformat_minor": 2
}
