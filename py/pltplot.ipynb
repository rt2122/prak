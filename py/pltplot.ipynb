{
 "cells": [
  {
   "cell_type": "code",
   "execution_count": 12,
   "metadata": {},
   "outputs": [
    {
     "name": "stdout",
     "output_type": "stream",
     "text": [
      "2 4\n"
     ]
    },
    {
     "data": {
      "image/png": "[encoded data removed]",
      "text/plain": [
       "<Figure size 432x288 with 1 Axes>"
      ]
     },
     "metadata": {
      "needs_background": "light"
     },
     "output_type": "display_data"
    }
   ],
   "source": [
    "import matplotlib.pyplot as plt\n",
    "import numpy as np\n",
    "\n",
    "def uniform(ratio, k, eps = 1):\n",
    "    a = int(np.sqrt(k))\n",
    "    b = k // a + (k % a != 0)\n",
    "    while abs(a / b - ratio) >= eps:\n",
    "        if a == 1:\n",
    "            break\n",
    "        a -= 1\n",
    "        b = k // a + (k % a != 0)\n",
    "    return (int(a), int(b))\n",
    "\n",
    "a, b = uniform(3 / 5, 8)\n",
    "##for i in range(a + 1):\n",
    "    #plt.plot([3 * i / a, 0], [3 * i / a, 5])\n",
    "plt.plot([0, 5], [1, 1])\n",
    "plt.plot([0, 5], [2, 2])\n",
    "print(a, b)\n",
    "    \n",
    "plt.show()"
   ]
  },
  {
   "cell_type": "code",
   "execution_count": null,
   "metadata": {},
   "outputs": [],
   "source": []
  }
 ],
 "metadata": {
  "kernelspec": {
   "display_name": "Python 3",
   "language": "python",
   "name": "python3"
  },
  "language_info": {
   "codemirror_mode": {
    "name": "ipython",
    "version": 3
   },
   "file_extension": ".py",
   "mimetype": "text/x-python",
   "name": "python",
   "nbconvert_exporter": "python",
   "pygments_lexer": "ipython3",
   "version": "3.7.0"
  }
 },
 "nbformat": 4,
 "nbformat_minor": 2
}
