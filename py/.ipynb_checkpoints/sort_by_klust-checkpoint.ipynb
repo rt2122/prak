{
 "cells": [
  {
   "cell_type": "code",
   "execution_count": 17,
   "metadata": {},
   "outputs": [
    {
     "name": "stdout",
     "output_type": "stream",
     "text": [
      "[[1 1]\n",
      " [1 2]\n",
      " [3 1]\n",
      " [1 4]\n",
      " [4 2]\n",
      " [0 0]]\n",
      "[[1 1 2]\n",
      " [1 2 2]\n",
      " [3 1 1]\n",
      " [1 4 0]\n",
      " [4 2 1]\n",
      " [0 0 1]]\n",
      "[[1 4]\n",
      " [3 1]\n",
      " [4 2]\n",
      " [0 0]\n",
      " [1 1]\n",
      " [1 2]]\n"
     ]
    }
   ],
   "source": [
    "import numpy as np\n",
    "\n",
    "\n",
    "def dist(x1, y1, x2, y2):\n",
    "    return np.sqrt((x1 - x2) ** 2 + (y1 - y2) ** 2)\n",
    "\n",
    "\n",
    "def filter_by_clust(a, i, length):\n",
    "    return list(filter(lambda q: a[q] == i, range(length)))\n",
    "\n",
    "\n",
    "def sort_by_clust(matr, clust, xc, yc):\n",
    "    clust = np.asarray(clust)\n",
    "    length = len(clust)\n",
    "    k = len(xc)\n",
    "    clust += k\n",
    "    cen_clust_sorted = sorted(list(range(k)), key = lambda i: dist(xc[i], yc[i], 0, 0))\n",
    "    for i in range(k):\n",
    "        f = filter_by_clust(clust, cen_clust_sorted[i] + k, length)\n",
    "        clust[f] = i\n",
    "    matr = np.concatenate([matr.T.ravel(), clust]).reshape(3, length).T\n",
    "    print(matr)\n",
    "    matr = np.array(sorted(matr, key = lambda x: x[2]))\n",
    "    return matr[:, :2]\n",
    "\n",
    "matr = np.array([1, 1, 3, 1, 4, 0, 1, 2, 1, 4, 2, 0]).reshape(2, 6).T\n",
    "print(matr)\n",
    "clust = np.array([0, 0, 1, 2, 1, 1])\n",
    "xc = np.array([6, 2, 1])\n",
    "yc = np.array([4, 5, 2])\n",
    "print(sort_by_clust(matr, clust, xc, yc))"
   ]
  },
  {
   "cell_type": "code",
   "execution_count": null,
   "metadata": {},
   "outputs": [],
   "source": []
  }
 ],
 "metadata": {
  "kernelspec": {
   "display_name": "Python 3",
   "language": "python",
   "name": "python3"
  },
  "language_info": {
   "codemirror_mode": {
    "name": "ipython",
    "version": 3
   },
   "file_extension": ".py",
   "mimetype": "text/x-python",
   "name": "python",
   "nbconvert_exporter": "python",
   "pygments_lexer": "ipython3",
   "version": "3.7.0"
  }
 },
 "nbformat": 4,
 "nbformat_minor": 2
}
