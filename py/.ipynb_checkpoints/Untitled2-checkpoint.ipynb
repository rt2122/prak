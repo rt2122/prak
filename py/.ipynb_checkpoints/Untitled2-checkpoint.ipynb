{
 "cells": [
  {
   "cell_type": "code",
   "execution_count": 49,
   "metadata": {},
   "outputs": [
    {
     "name": "stdout",
     "output_type": "stream",
     "text": [
      "0 196 1\n",
      "0.0 1.96\n",
      "0.0 0.95\n"
     ]
    }
   ],
   "source": [
    "import numpy as np\n",
    "def find_nearest(array, value):\n",
    "    array = np.asarray(array)\n",
    "    idx = (np.abs(array - value)).argmin()\n",
    "    return idx\n",
    "len = 0\n",
    "with open(\"laplas.txt\") as f:\n",
    "    for line in f:\n",
    "        len += 1\n",
    "table = np.zeros(len * 2).reshape(len, 2)\n",
    "i = 0\n",
    "with open(\"laplas.txt\") as f:\n",
    "    for line in f:\n",
    "        table[i][0] = float(line[:4])\n",
    "        table[i][1] = float(line[5:])\n",
    "        i += 1\n",
    "\n",
    "p = 0.95\n",
    "eps = 0.0001\n",
    "'''\n",
    "idx = find_nearest(table[:,1], p)\n",
    "print(table[idx][1])\n",
    "'''\n",
    "integ = table[:, 1]\n",
    "a = 0\n",
    "b = len - 1\n",
    "k = 0\n",
    "for ia in range(len):\n",
    "    ib = find_nearest(integ, integ[ia] + p)\n",
    "    if integ[ib] - integ[ia] == 0.95 and table[ia][0] < table[ib][0] and table[ib][0] - table[ia][0] < table[b][0] - table[a][0]:\n",
    "        b = ib\n",
    "        a = ia\n",
    "        k += 1\n",
    "\n",
    "print(a, b, k)\n",
    "print(table[a][0], table[b][0])\n",
    "print(integ[a], integ[b])"
   ]
  },
  {
   "cell_type": "code",
   "execution_count": null,
   "metadata": {},
   "outputs": [],
   "source": []
  }
 ],
 "metadata": {
  "kernelspec": {
   "display_name": "Python 3",
   "language": "python",
   "name": "python3"
  },
  "language_info": {
   "codemirror_mode": {
    "name": "ipython",
    "version": 3
   },
   "file_extension": ".py",
   "mimetype": "text/x-python",
   "name": "python",
   "nbconvert_exporter": "python",
   "pygments_lexer": "ipython3",
   "version": "3.7.0"
  }
 },
 "nbformat": 4,
 "nbformat_minor": 2
}
