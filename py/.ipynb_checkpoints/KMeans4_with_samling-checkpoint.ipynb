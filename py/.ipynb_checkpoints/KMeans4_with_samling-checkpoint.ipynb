{
 "cells": [
  {
   "cell_type": "code",
   "execution_count": 63,
   "metadata": {},
   "outputs": [
    {
     "name": "stdout",
     "output_type": "stream",
     "text": [
      "Количество точек, количество кластеров, точность? (Через запятую)\n",
      "200, 4, 1\n",
      "(3,)\n",
      "#\n",
      "0\n"
     ]
    },
    {
     "ename": "IndexError",
     "evalue": "index 3 is out of bounds for axis 0 with size 3",
     "output_type": "error",
     "traceback": [
      "\u001b[0;31m---------------------------------------------------------------------------\u001b[0m",
      "\u001b[0;31mIndexError\u001b[0m                                Traceback (most recent call last)",
      "\u001b[0;32m<ipython-input-63-8522be64f914>\u001b[0m in \u001b[0;36m<module>\u001b[0;34m\u001b[0m\n\u001b[1;32m    100\u001b[0m \u001b[0msam\u001b[0m\u001b[0;34m,\u001b[0m \u001b[0mfeat\u001b[0m\u001b[0;34m,\u001b[0m \u001b[0me\u001b[0m \u001b[0;34m=\u001b[0m \u001b[0meval\u001b[0m\u001b[0;34m(\u001b[0m\u001b[0minput\u001b[0m\u001b[0;34m(\u001b[0m\u001b[0;34m\"Количество точек, количество кластеров, точность? (Через запятую)\\n\"\u001b[0m\u001b[0;34m)\u001b[0m\u001b[0;34m)\u001b[0m\u001b[0;34m\u001b[0m\u001b[0m\n\u001b[1;32m    101\u001b[0m \u001b[0mx\u001b[0m\u001b[0;34m,\u001b[0m \u001b[0my\u001b[0m \u001b[0;34m=\u001b[0m \u001b[0mmake_blobs\u001b[0m\u001b[0;34m(\u001b[0m\u001b[0mn_samples\u001b[0m \u001b[0;34m=\u001b[0m \u001b[0msam\u001b[0m\u001b[0;34m,\u001b[0m \u001b[0mn_features\u001b[0m \u001b[0;34m=\u001b[0m \u001b[0;36m2\u001b[0m\u001b[0;34m,\u001b[0m \u001b[0mcenters\u001b[0m \u001b[0;34m=\u001b[0m \u001b[0;36m50\u001b[0m\u001b[0;34m,\u001b[0m \u001b[0mrandom_state\u001b[0m \u001b[0;34m=\u001b[0m \u001b[0;36m12\u001b[0m\u001b[0;34m)\u001b[0m\u001b[0;34m\u001b[0m\u001b[0m\n\u001b[0;32m--> 102\u001b[0;31m \u001b[0ma\u001b[0m \u001b[0;34m=\u001b[0m \u001b[0mKMeans4\u001b[0m\u001b[0;34m(\u001b[0m\u001b[0mx\u001b[0m\u001b[0;34m,\u001b[0m \u001b[0mk\u001b[0m \u001b[0;34m=\u001b[0m \u001b[0mfeat\u001b[0m\u001b[0;34m,\u001b[0m \u001b[0meps\u001b[0m \u001b[0;34m=\u001b[0m \u001b[0me\u001b[0m\u001b[0;34m,\u001b[0m \u001b[0msample_size\u001b[0m \u001b[0;34m=\u001b[0m \u001b[0;36m10\u001b[0m\u001b[0;34m)\u001b[0m\u001b[0;34m\u001b[0m\u001b[0m\n\u001b[0m\u001b[1;32m    103\u001b[0m \u001b[0;31m#plt.scatter(x[:, 0], x[:, 1], c = a)\u001b[0m\u001b[0;34m\u001b[0m\u001b[0;34m\u001b[0m\u001b[0m\n\u001b[1;32m    104\u001b[0m \u001b[0mplt\u001b[0m\u001b[0;34m.\u001b[0m\u001b[0mshow\u001b[0m\u001b[0;34m(\u001b[0m\u001b[0;34m)\u001b[0m\u001b[0;34m\u001b[0m\u001b[0m\n",
      "\u001b[0;32m<ipython-input-63-8522be64f914>\u001b[0m in \u001b[0;36mKMeans4\u001b[0;34m(matr, k, seed, eps, sample_size)\u001b[0m\n\u001b[1;32m     47\u001b[0m             \u001b[0mprint\u001b[0m\u001b[0;34m(\u001b[0m\u001b[0mi\u001b[0m\u001b[0;34m)\u001b[0m\u001b[0;34m\u001b[0m\u001b[0m\n\u001b[1;32m     48\u001b[0m             \u001b[0mclast\u001b[0m \u001b[0;34m=\u001b[0m \u001b[0mk\u001b[0m \u001b[0;34m-\u001b[0m \u001b[0;36m1\u001b[0m\u001b[0;34m\u001b[0m\u001b[0m\n\u001b[0;32m---> 49\u001b[0;31m             \u001b[0mdist_to_clast\u001b[0m \u001b[0;34m=\u001b[0m \u001b[0mdist\u001b[0m\u001b[0;34m(\u001b[0m\u001b[0msample_matr\u001b[0m\u001b[0;34m[\u001b[0m\u001b[0mi\u001b[0m\u001b[0;34m]\u001b[0m\u001b[0;34m[\u001b[0m\u001b[0;36m0\u001b[0m\u001b[0;34m]\u001b[0m\u001b[0;34m,\u001b[0m \u001b[0msample_matr\u001b[0m\u001b[0;34m[\u001b[0m\u001b[0mi\u001b[0m\u001b[0;34m]\u001b[0m\u001b[0;34m[\u001b[0m\u001b[0;36m1\u001b[0m\u001b[0;34m]\u001b[0m\u001b[0;34m,\u001b[0m \u001b[0mxc\u001b[0m\u001b[0;34m[\u001b[0m\u001b[0mk\u001b[0m \u001b[0;34m-\u001b[0m \u001b[0;36m1\u001b[0m\u001b[0;34m]\u001b[0m\u001b[0;34m,\u001b[0m \u001b[0myc\u001b[0m\u001b[0;34m[\u001b[0m\u001b[0mk\u001b[0m \u001b[0;34m-\u001b[0m \u001b[0;36m1\u001b[0m\u001b[0;34m]\u001b[0m\u001b[0;34m)\u001b[0m\u001b[0;34m\u001b[0m\u001b[0m\n\u001b[0m\u001b[1;32m     50\u001b[0m             \u001b[0;32mfor\u001b[0m \u001b[0mj\u001b[0m \u001b[0;32min\u001b[0m \u001b[0mrange\u001b[0m\u001b[0;34m(\u001b[0m\u001b[0mk\u001b[0m \u001b[0;34m-\u001b[0m \u001b[0;36m1\u001b[0m\u001b[0;34m)\u001b[0m\u001b[0;34m:\u001b[0m\u001b[0;34m\u001b[0m\u001b[0m\n\u001b[1;32m     51\u001b[0m                 \u001b[0mcur_dist\u001b[0m \u001b[0;34m=\u001b[0m \u001b[0mdist\u001b[0m\u001b[0;34m(\u001b[0m\u001b[0msample_matr\u001b[0m\u001b[0;34m[\u001b[0m\u001b[0mi\u001b[0m\u001b[0;34m]\u001b[0m\u001b[0;34m[\u001b[0m\u001b[0;36m0\u001b[0m\u001b[0;34m]\u001b[0m\u001b[0;34m,\u001b[0m \u001b[0msample_matr\u001b[0m\u001b[0;34m[\u001b[0m\u001b[0mi\u001b[0m\u001b[0;34m]\u001b[0m\u001b[0;34m[\u001b[0m\u001b[0;36m1\u001b[0m\u001b[0;34m]\u001b[0m\u001b[0;34m,\u001b[0m \u001b[0mxc\u001b[0m\u001b[0;34m[\u001b[0m\u001b[0mj\u001b[0m\u001b[0;34m]\u001b[0m\u001b[0;34m,\u001b[0m \u001b[0myc\u001b[0m\u001b[0;34m[\u001b[0m\u001b[0mj\u001b[0m\u001b[0;34m]\u001b[0m\u001b[0;34m)\u001b[0m\u001b[0;34m\u001b[0m\u001b[0m\n",
      "\u001b[0;31mIndexError\u001b[0m: index 3 is out of bounds for axis 0 with size 3"
     ]
    },
    {
     "data": {
      "image/png": "[encoded data removed]",
      "text/plain": [
       "<Figure size 432x288 with 1 Axes>"
      ]
     },
     "metadata": {
      "needs_background": "light"
     },
     "output_type": "display_data"
    }
   ],
   "source": [
    "import numpy as np\n",
    "import matplotlib.pyplot as plt\n",
    "from sklearn.datasets import make_blobs\n",
    "\n",
    "def dist(x1, y1, x2, y2):\n",
    "    return np.sqrt((x1 - x2) ** 2 + (y1 - y2) ** 2)\n",
    "\n",
    "def KMeans4(matr, k = 2, seed = 4, eps = 0.0001, sample_size = 0):\n",
    "    np.random.seed(seed)\n",
    "    x = np.asarray(matr[:, 0])\n",
    "    y = np.asarray(matr[:, 1])\n",
    "    \n",
    "    length = len(x)\n",
    "    \n",
    "    if sample_size == 0 or sample_size > length:\n",
    "        sample_size = length        \n",
    "    \n",
    "    #print(type(sample_matr))\n",
    "    sample_matr = np.random.choice(length, sample_size, replace = False)\n",
    "    sample_matr = np.concatenate([x[sample_matr], y[sample_matr], np.array(list(range(k)) * (sample_size // k + 1))[:sample_size]])\n",
    "    sample_matr = sample_matr.reshape(3, sample_size).T\n",
    "    flag = 0\n",
    "    p = np.random.choice(sample_size, k, replace = False)\n",
    "    xc = sample_matr[p][0]\n",
    "    yc = sample_matr[p][1]\n",
    "    print(xc.shape)\n",
    "    asd = 0\n",
    "    while True:\n",
    "        print(\"#\")\n",
    "        if flag == 0:\n",
    "            flag = 1\n",
    "        else:\n",
    "            sample_matr = np.random.choice(length, sample_size, replace = False)\n",
    "            sample_matr = np.concatenate([x[sample_matr], y[sample_matr], np.array(list(range(k)) * (sample_size // k + 1))[:sample_size]])\n",
    "            sample_matr = sample_matr.reshape(3, sample_size).T\n",
    "        #print(np.mean(sample_matr))\n",
    "        \n",
    "        #print(sample_matr[:][0].shape)\n",
    "        \n",
    "        \n",
    "        #print(sample_matr[0][:].shape)\n",
    "        plt.scatter(sample_matr[:, 0], sample_matr[:, 1], c = np.full(sample_size, asd).reshape(sample_size, ))\n",
    "        asd -= 1\n",
    "        if asd == 0:\n",
    "            break\n",
    "        for i in range(sample_size):\n",
    "            print(i)\n",
    "            clast = k - 1\n",
    "            dist_to_clast = dist(sample_matr[i][0], sample_matr[i][1], xc[k - 1], yc[k - 1])\n",
    "            for j in range(k - 1):\n",
    "                cur_dist = dist(sample_matr[i][0], sample_matr[i][1], xc[j], yc[j])\n",
    "                if cur_dist < dist_to_clast:\n",
    "                    dist_to_clast = cur_dist\n",
    "                    clast = j\n",
    "            sample_matr[i][2] = clast\n",
    "        sums = 0\n",
    "        for i in range(k):\n",
    "            fil = list(filter(lambda q: sample_matr[q][2] == i, range(sample_size)))\n",
    "            #print(i, fil)\n",
    "            if len(fil) == 0:\n",
    "                print(\"Something bad happend!\")\n",
    "                print(sample_matr)\n",
    "            xcc = xc[i]\n",
    "            ycc = yc[i]\n",
    "            #print(sample_matr[fil].shape)\n",
    "            if len(fil) == 1:\n",
    "                xc[i] = sample_matr[fil[0]][0]\n",
    "                yc[i] = sample_matr[fil[0]][1]\n",
    "            else:\n",
    "                xc[i] = np.mean(sample_matr[fil][0])\n",
    "                yc[i] = np.mean(sample_matr[fil][1])\n",
    "            sums += dist(xc[i], yc[i], xcc, ycc)\n",
    "        #print(\"#\")\n",
    "        #print(xc)\n",
    "        #print(yc)\n",
    "        if sums < eps:\n",
    "            break\n",
    "    \n",
    "    matr = np.concatenate([x, y, np.random.randint(0, k, length, dtype = int)])\n",
    "    matr = matr.reshape(3, length).T\n",
    "    \n",
    "    for i in range(length):\n",
    "        clast = k - 1\n",
    "        dist_to_clast = dist(x[i], y[i], xc[k - 1], yc[k - 1])\n",
    "        for j in range(k - 1):\n",
    "            cur_dist = dist(x[i], y[i], xc[j], yc[j])\n",
    "            if cur_dist < dist_to_clast:\n",
    "                dist_to_clast = cur_dist\n",
    "                clast = j\n",
    "        matr[i][2] = clast\n",
    "    for i in range(k):\n",
    "        fil = list(filter(lambda q: matr[q][2] == i, range(length)))\n",
    "        xc[i] = np.mean(x[fil])\n",
    "        yc[i] = np.mean(y[fil])\n",
    "            \n",
    "    \n",
    "    #plt.scatter(xc, yc, marker = \"v\", c = 'r')\n",
    "    return matr[:, 2]\n",
    "\n",
    "sam, feat, e = eval(input(\"Количество точек, количество кластеров, точность? (Через запятую)\\n\"))\n",
    "x, y = make_blobs(n_samples = sam, n_features = 2, centers = 50, random_state = 12)\n",
    "a = KMeans4(x, k = feat, eps = e, sample_size = 10)\n",
    "#plt.scatter(x[:, 0], x[:, 1], c = a)\n",
    "plt.show()"
   ]
  },
  {
   "cell_type": "code",
   "execution_count": null,
   "metadata": {},
   "outputs": [],
   "source": []
  },
  {
   "cell_type": "code",
   "execution_count": null,
   "metadata": {},
   "outputs": [],
   "source": []
  },
  {
   "cell_type": "code",
   "execution_count": null,
   "metadata": {},
   "outputs": [],
   "source": []
  }
 ],
 "metadata": {
  "kernelspec": {
   "display_name": "Python 3",
   "language": "python",
   "name": "python3"
  },
  "language_info": {
   "codemirror_mode": {
    "name": "ipython",
    "version": 3
   },
   "file_extension": ".py",
   "mimetype": "text/x-python",
   "name": "python",
   "nbconvert_exporter": "python",
   "pygments_lexer": "ipython3",
   "version": "3.7.0"
  }
 },
 "nbformat": 4,
 "nbformat_minor": 2
}
